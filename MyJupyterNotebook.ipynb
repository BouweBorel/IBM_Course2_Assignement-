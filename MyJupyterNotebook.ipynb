{
 "cells": [
  {
   "cell_type": "markdown",
   "id": "02bea57d-d90d-4182-8ee2-6da9db841993",
   "metadata": {},
   "source": [
    "# Notebook title"
   ]
  },
  {
   "cell_type": "markdown",
   "id": "7d1c5ec9-6612-4adf-943e-30a0a8b57c49",
   "metadata": {
    "jp-MarkdownHeadingCollapsed": true,
    "tags": []
   },
   "source": [
    "## Introduction\n",
    "\n",
    "This notebook review what has been thought till now in the IBM Data Science Certificate course."
   ]
  },
  {
   "cell_type": "markdown",
   "id": "7b48826c-de2a-4d7d-b1d4-48e054aa333a",
   "metadata": {
    "tags": []
   },
   "source": [
    "## Data science language list\n",
    "- R\n",
    "- Python\n",
    "- Julia\n",
    "- Java\n",
    "- Scala \n",
    "- MatLab\n",
    "- Octave\n",
    "- Ruby\n",
    "- Javascript"
   ]
  },
  {
   "cell_type": "markdown",
   "id": "5bd02a14-b8ca-40a2-9400-c352248bf081",
   "metadata": {
    "jp-MarkdownHeadingCollapsed": true,
    "tags": []
   },
   "source": [
    "## Data science library list\n",
    "- Apache Spark\n",
    "- Scala libraries\n",
    "    - Vegas\n",
    "    - BigDL\n",
    "- R libraries\n",
    "    - ggplot\n",
    "    - dplyr\n",
    "    - stringr\n",
    "    - caret\n",
    "- Python libraries\n",
    "    - Science computational librabies\n",
    "        - Panda\n",
    "        - NumPy\n",
    "    - Visualisation libraries\n",
    "        - Matplot lib\n",
    "        - Seaborn\n",
    "    - Deep learning libraries \n",
    "        - TensorFlow\n",
    "        - PyTorch\n",
    "    - Scikit-learn\n",
    "    - Keras"
   ]
  },
  {
   "cell_type": "markdown",
   "id": "e67dfec9-5e53-4415-bb67-02fa81dd6818",
   "metadata": {
    "jp-MarkdownHeadingCollapsed": true,
    "tags": []
   },
   "source": [
    "## Data Science tools\n",
    "\n",
    "-----------------------------------------------------------------------------------------------------------------------------------------------\n",
    "| Execution Environment |\n",
    "-----------------------------------------------------------------------------------------------------------------------------------------------\n",
    "| Data Asset Management |\n",
    "-----------------------------------------------------------------------------------------------------------------------------------------------\n",
    "| Data Management | Data Integration and Transformation | Data Visualisation | Model Building | Model Deployment| Model Monitoring and Assessment |\n",
    "-----------------------------------------------------------------------------------------------------------------------------------------------\n",
    "| Code Asset Management |\n",
    "-----------------------------------------------------------------------------------------------------------------------------------------------\n",
    "| Development Environment |\n",
    "-----------------------------------------------------------------------------------------------------------------------------------------------"
   ]
  },
  {
   "cell_type": "markdown",
   "id": "1efc4f3d-8a10-4c5e-b542-8f4b9cbc9009",
   "metadata": {},
   "source": [
    "## Evaluating arithmetic expression "
   ]
  },
  {
   "cell_type": "code",
   "execution_count": 12,
   "id": "454806b3-99a0-4574-bfcf-cbee3333f297",
   "metadata": {},
   "outputs": [
    {
     "name": "stdin",
     "output_type": "stream",
     "text": [
      "Enter your first value 2\n",
      "Enter your second value 8\n"
     ]
    },
    {
     "name": "stdout",
     "output_type": "stream",
     "text": [
      "10\n",
      "16\n"
     ]
    }
   ],
   "source": [
    "a = int(input(\"Enter your first value\"))\n",
    "b = int(input(\"Enter your second value\"))\n",
    "\n",
    "\n",
    "print (a+b)\n",
    "print (a*b)"
   ]
  },
  {
   "cell_type": "code",
   "execution_count": 13,
   "id": "ee601913-2c05-48e6-82c8-a56c29549063",
   "metadata": {},
   "outputs": [
    {
     "name": "stdin",
     "output_type": "stream",
     "text": [
      "Enter the time you which to convert from minutes to hours :  90\n"
     ]
    },
    {
     "name": "stdout",
     "output_type": "stream",
     "text": [
      "\n",
      "90mins in hours is 1.5hrs\n"
     ]
    }
   ],
   "source": [
    "a = int(input(\"Enter the time you which to convert from minutes to hours : \"))\n",
    "b = a/60\n",
    "\n",
    "print(\"\")\n",
    "print (str(a) + \"mins in hours is \" + str(b) + \"hrs\")"
   ]
  },
  {
   "cell_type": "markdown",
   "id": "6b230ce1-8ee7-4fc2-b605-941c9588e723",
   "metadata": {
    "tags": []
   },
   "source": [
    "## List Objectives:\n",
    "\n",
    "- Introduction to DS tools\n",
    "- Intro to Jupyter Notebook and Juputer Lab\n",
    "- Intro to R and RStudio\n",
    "- Intro to Git and GitHub"
   ]
  },
  {
   "cell_type": "markdown",
   "id": "2186294b-d61b-4c7e-a0ed-95ec806cf7a2",
   "metadata": {},
   "source": [
    "#### Author's name\n",
    "BOUWE Borel"
   ]
  },
  {
   "cell_type": "code",
   "execution_count": null,
   "id": "21a0cc2d-bec9-4a04-bcbc-0f1559705f23",
   "metadata": {},
   "outputs": [],
   "source": []
  }
 ],
 "metadata": {
  "kernelspec": {
   "display_name": "Python 3 (ipykernel)",
   "language": "python",
   "name": "python3"
  },
  "language_info": {
   "codemirror_mode": {
    "name": "ipython",
    "version": 3
   },
   "file_extension": ".py",
   "mimetype": "text/x-python",
   "name": "python",
   "nbconvert_exporter": "python",
   "pygments_lexer": "ipython3",
   "version": "3.10.9"
  }
 },
 "nbformat": 4,
 "nbformat_minor": 5
}
